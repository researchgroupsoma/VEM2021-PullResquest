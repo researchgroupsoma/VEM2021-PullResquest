{
 "cells": [
  {
   "cell_type": "code",
   "execution_count": 1,
   "metadata": {
    "executionInfo": {
     "elapsed": 2,
     "status": "ok",
     "timestamp": 1626219238035,
     "user": {
      "displayName": "Gabriel Menezes",
      "photoUrl": "https://lh3.googleusercontent.com/a-/AOh14GjYUuuH8zQ8RXHIMSnNeypaXPnqG95-o6VnOfVLGA=s64",
      "userId": "04710021433655722253"
     },
     "user_tz": 240
    },
    "id": "7mEtGHPUkvah"
   },
   "outputs": [],
   "source": [
    "import pandas as pd"
   ]
  },
  {
   "cell_type": "code",
   "execution_count": 3,
   "metadata": {
    "executionInfo": {
     "elapsed": 8,
     "status": "ok",
     "timestamp": 1626219239237,
     "user": {
      "displayName": "Gabriel Menezes",
      "photoUrl": "https://lh3.googleusercontent.com/a-/AOh14GjYUuuH8zQ8RXHIMSnNeypaXPnqG95-o6VnOfVLGA=s64",
      "userId": "04710021433655722253"
     },
     "user_tz": 240
    },
    "id": "k6iORy9-lEPy"
   },
   "outputs": [],
   "source": [
    "import os\n",
    "os.chdir(\"/home/jovyan/work/VEM2021-PullResquest\")"
   ]
  },
  {
   "cell_type": "markdown",
   "metadata": {},
   "source": [
    "Due the limit of 100MB per file of GitHub, we split azure.csv into 4 parts. So before running this script you need to join all azure-parts-X.csv into one csv called azure.csv"
   ]
  },
  {
   "cell_type": "code",
   "execution_count": 5,
   "metadata": {
    "executionInfo": {
     "elapsed": 415,
     "status": "ok",
     "timestamp": 1626219242110,
     "user": {
      "displayName": "Gabriel Menezes",
      "photoUrl": "https://lh3.googleusercontent.com/a-/AOh14GjYUuuH8zQ8RXHIMSnNeypaXPnqG95-o6VnOfVLGA=s64",
      "userId": "04710021433655722253"
     },
     "user_tz": 240
    },
    "id": "q4ds3v0Dn35U"
   },
   "outputs": [],
   "source": [
    "android_contributors = pd.read_csv(\"3-Colaboradores/contributors/android.csv\")\n",
    "del android_contributors[\"Unnamed: 0\"]\n",
    "aws_contributors = pd.read_csv(\"3-Colaboradores/contributors/aws.csv\")\n",
    "del aws_contributors[\"Unnamed: 0\"]\n",
    "azure_contributors = pd.read_csv(\"3-Colaboradores/contributors/azure.csv\")\n",
    "del azure_contributors[\"Unnamed: 0\"]\n",
    "spring_contributors = pd.read_csv(\"3-Colaboradores/contributors/spring.csv\")\n",
    "del spring_contributors[\"Unnamed: 0\"]"
   ]
  },
  {
   "cell_type": "code",
   "execution_count": 6,
   "metadata": {
    "executionInfo": {
     "elapsed": 4788,
     "status": "ok",
     "timestamp": 1626219248060,
     "user": {
      "displayName": "Gabriel Menezes",
      "photoUrl": "https://lh3.googleusercontent.com/a-/AOh14GjYUuuH8zQ8RXHIMSnNeypaXPnqG95-o6VnOfVLGA=s64",
      "userId": "04710021433655722253"
     },
     "user_tz": 240
    },
    "id": "RIUMH6w1oMsJ"
   },
   "outputs": [],
   "source": [
    "android_authors = pd.read_csv(\"3-Colaboradores/authors/android.csv\")\n",
    "del android_authors[\"Unnamed: 0\"]\n",
    "aws_authors = pd.read_csv(\"3-Colaboradores/authors/aws.csv\")\n",
    "del aws_authors[\"Unnamed: 0\"]\n",
    "azure_authors = pd.read_csv(\"3-Colaboradores/authors/azure.csv\")\n",
    "del azure_authors[\"Unnamed: 0\"]\n",
    "spring_authors = pd.read_csv(\"3-Colaboradores/authors/spring.csv\")\n",
    "del spring_authors[\"Unnamed: 0\"]"
   ]
  },
  {
   "cell_type": "code",
   "execution_count": 35,
   "metadata": {
    "executionInfo": {
     "elapsed": 269,
     "status": "ok",
     "timestamp": 1626219250263,
     "user": {
      "displayName": "Gabriel Menezes",
      "photoUrl": "https://lh3.googleusercontent.com/a-/AOh14GjYUuuH8zQ8RXHIMSnNeypaXPnqG95-o6VnOfVLGA=s64",
      "userId": "04710021433655722253"
     },
     "user_tz": 240
    },
    "id": "x4vYAZi68Ti7"
   },
   "outputs": [],
   "source": [
    "def extract(framework, framework_authors, framework_contributors):\n",
    "  objectos = list()\n",
    "  for sample in framework_authors[\"sample\"].unique():\n",
    "    sample_contributors = framework_contributors[framework_contributors[\"sample\"] == sample]\n",
    "    sample_authors = framework_authors[framework_authors[\"sample\"] == sample]\n",
    "    \n",
    "    contributors = sample_contributors[\"login\"]\n",
    "    authors = sample_authors[\"login\"]\n",
    "    \n",
    "    authors_in_contributors = 0\n",
    "    for author in authors:\n",
    "      for contributor in contributors:\n",
    "        if (author == contributor):\n",
    "            authors_in_contributors = authors_in_contributors + 1        \n",
    "    \n",
    "    objecto = {\n",
    "        \"framework\": framework,\n",
    "        \"sample\": sample,\n",
    "        \"contributors\": contributors.count(),\n",
    "        \"authors\": authors.count(),\n",
    "        \"authors_in_contributors\": authors_in_contributors,\n",
    "        \"%_of_author_in_contributors_in_contributors\": 0 if contributors.count() == 0 else authors_in_contributors/int(contributors.count()),\n",
    "        \"%_of_author_in_contributors_in_authors\": 0 if authors.count() == 0 else authors_in_contributors/int(authors.count())\n",
    "    }\n",
    "\n",
    "    objectos.append(objecto)\n",
    "  df = pd.DataFrame(objectos)\n",
    "  return df"
   ]
  },
  {
   "cell_type": "code",
   "execution_count": 37,
   "metadata": {
    "id": "-BLfOxAdOH9x"
   },
   "outputs": [],
   "source": [
    "android = extract(\"Android\", android_authors, android_contributors)"
   ]
  },
  {
   "cell_type": "code",
   "execution_count": 38,
   "metadata": {
    "colab": {
     "base_uri": "https://localhost:8080/"
    },
    "executionInfo": {
     "elapsed": 9099,
     "status": "ok",
     "timestamp": 1626219456909,
     "user": {
      "displayName": "Gabriel Menezes",
      "photoUrl": "https://lh3.googleusercontent.com/a-/AOh14GjYUuuH8zQ8RXHIMSnNeypaXPnqG95-o6VnOfVLGA=s64",
      "userId": "04710021433655722253"
     },
     "user_tz": 240
    },
    "id": "woCFVYqUOqBV",
    "outputId": "648aa58c-b79a-4d61-ee38-69861fca3039"
   },
   "outputs": [],
   "source": [
    "aws = extract(\"AWS\", aws_authors, aws_contributors)"
   ]
  },
  {
   "cell_type": "code",
   "execution_count": 39,
   "metadata": {
    "colab": {
     "base_uri": "https://localhost:8080/"
    },
    "executionInfo": {
     "elapsed": 177983,
     "status": "ok",
     "timestamp": 1626219634874,
     "user": {
      "displayName": "Gabriel Menezes",
      "photoUrl": "https://lh3.googleusercontent.com/a-/AOh14GjYUuuH8zQ8RXHIMSnNeypaXPnqG95-o6VnOfVLGA=s64",
      "userId": "04710021433655722253"
     },
     "user_tz": 240
    },
    "id": "CPcyNJV_OvTw",
    "outputId": "91c04782-dc0d-4c16-ffd7-719e37a4646a"
   },
   "outputs": [],
   "source": [
    "azure = extract(\"Azure\", azure_authors, azure_contributors)"
   ]
  },
  {
   "cell_type": "code",
   "execution_count": 40,
   "metadata": {
    "colab": {
     "base_uri": "https://localhost:8080/"
    },
    "executionInfo": {
     "elapsed": 284,
     "status": "ok",
     "timestamp": 1626219720449,
     "user": {
      "displayName": "Gabriel Menezes",
      "photoUrl": "https://lh3.googleusercontent.com/a-/AOh14GjYUuuH8zQ8RXHIMSnNeypaXPnqG95-o6VnOfVLGA=s64",
      "userId": "04710021433655722253"
     },
     "user_tz": 240
    },
    "id": "3Vb4VOEvOydV",
    "outputId": "d0c94100-fc6d-4c0a-ea12-6eed7c210beb"
   },
   "outputs": [],
   "source": [
    "spring = extract(\"Spring\", spring_authors, spring_contributors)"
   ]
  },
  {
   "cell_type": "code",
   "execution_count": 41,
   "metadata": {
    "executionInfo": {
     "elapsed": 1,
     "status": "ok",
     "timestamp": 1626219721302,
     "user": {
      "displayName": "Gabriel Menezes",
      "photoUrl": "https://lh3.googleusercontent.com/a-/AOh14GjYUuuH8zQ8RXHIMSnNeypaXPnqG95-o6VnOfVLGA=s64",
      "userId": "04710021433655722253"
     },
     "user_tz": 240
    },
    "id": "UIqcp5DQOQ01"
   },
   "outputs": [],
   "source": [
    "android.to_csv(\"4-Interseccao/android.csv\", index=False)"
   ]
  },
  {
   "cell_type": "code",
   "execution_count": 42,
   "metadata": {
    "executionInfo": {
     "elapsed": 3,
     "status": "ok",
     "timestamp": 1626219721692,
     "user": {
      "displayName": "Gabriel Menezes",
      "photoUrl": "https://lh3.googleusercontent.com/a-/AOh14GjYUuuH8zQ8RXHIMSnNeypaXPnqG95-o6VnOfVLGA=s64",
      "userId": "04710021433655722253"
     },
     "user_tz": 240
    },
    "id": "eRc3iNCsPHZN"
   },
   "outputs": [],
   "source": [
    "aws.to_csv(\"4-Interseccao/aws.csv\", index=False)"
   ]
  },
  {
   "cell_type": "code",
   "execution_count": 43,
   "metadata": {
    "executionInfo": {
     "elapsed": 4,
     "status": "ok",
     "timestamp": 1626219722028,
     "user": {
      "displayName": "Gabriel Menezes",
      "photoUrl": "https://lh3.googleusercontent.com/a-/AOh14GjYUuuH8zQ8RXHIMSnNeypaXPnqG95-o6VnOfVLGA=s64",
      "userId": "04710021433655722253"
     },
     "user_tz": 240
    },
    "id": "ivsA1s6BPJvW"
   },
   "outputs": [],
   "source": [
    "azure.to_csv(\"4-Interseccao/azure.csv\", index=False)"
   ]
  },
  {
   "cell_type": "code",
   "execution_count": 44,
   "metadata": {
    "executionInfo": {
     "elapsed": 12,
     "status": "ok",
     "timestamp": 1626219722675,
     "user": {
      "displayName": "Gabriel Menezes",
      "photoUrl": "https://lh3.googleusercontent.com/a-/AOh14GjYUuuH8zQ8RXHIMSnNeypaXPnqG95-o6VnOfVLGA=s64",
      "userId": "04710021433655722253"
     },
     "user_tz": 240
    },
    "id": "TnxpcOVDPMIH"
   },
   "outputs": [],
   "source": [
    "spring.to_csv(\"4-Interseccao/spring.csv\", index=False)"
   ]
  }
 ],
 "metadata": {
  "colab": {
   "authorship_tag": "ABX9TyOEK4CU+hXW1PVmHoBrSQAK",
   "collapsed_sections": [],
   "name": "Script.ipynb",
   "provenance": []
  },
  "kernelspec": {
   "display_name": "Python 3",
   "language": "python",
   "name": "python3"
  },
  "language_info": {
   "codemirror_mode": {
    "name": "ipython",
    "version": 3
   },
   "file_extension": ".py",
   "mimetype": "text/x-python",
   "name": "python",
   "nbconvert_exporter": "python",
   "pygments_lexer": "ipython3",
   "version": "3.8.6"
  }
 },
 "nbformat": 4,
 "nbformat_minor": 1
}
