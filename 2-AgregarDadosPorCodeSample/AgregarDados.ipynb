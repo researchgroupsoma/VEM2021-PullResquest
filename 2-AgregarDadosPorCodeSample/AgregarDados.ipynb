{
 "cells": [
  {
   "cell_type": "code",
   "execution_count": 2,
   "metadata": {
    "colab": {
     "base_uri": "https://localhost:8080/"
    },
    "executionInfo": {
     "elapsed": 405,
     "status": "ok",
     "timestamp": 1624992255092,
     "user": {
      "displayName": "Gabriel Menezes",
      "photoUrl": "https://lh3.googleusercontent.com/a-/AOh14GjYUuuH8zQ8RXHIMSnNeypaXPnqG95-o6VnOfVLGA=s64",
      "userId": "04710021433655722253"
     },
     "user_tz": 240
    },
    "id": "0XKHr5SRp-qT",
    "outputId": "a630aca7-48d0-461a-82c3-5aa094f81ff5"
   },
   "outputs": [
    {
     "data": {
      "text/plain": [
       "'/home/jovyan/work/VEM2021-PullResquest/2-AgregarDadosPorCodeSample'"
      ]
     },
     "execution_count": 2,
     "metadata": {},
     "output_type": "execute_result"
    }
   ],
   "source": [
    "import os\n",
    "import pandas as pd\n",
    "os.getcwd()"
   ]
  },
  {
   "cell_type": "code",
   "execution_count": 3,
   "metadata": {
    "colab": {
     "base_uri": "https://localhost:8080/"
    },
    "executionInfo": {
     "elapsed": 15,
     "status": "ok",
     "timestamp": 1624992255094,
     "user": {
      "displayName": "Gabriel Menezes",
      "photoUrl": "https://lh3.googleusercontent.com/a-/AOh14GjYUuuH8zQ8RXHIMSnNeypaXPnqG95-o6VnOfVLGA=s64",
      "userId": "04710021433655722253"
     },
     "user_tz": 240
    },
    "id": "ViKrqhorsURF",
    "outputId": "331b4d0f-f617-4712-ee09-15ca46f8353f"
   },
   "outputs": [],
   "source": [
    "os.chdir(\"/home/jovyan/work/VEM2021-PullResquest\")"
   ]
  },
  {
   "cell_type": "code",
   "execution_count": 4,
   "metadata": {
    "executionInfo": {
     "elapsed": 12,
     "status": "ok",
     "timestamp": 1624992255096,
     "user": {
      "displayName": "Gabriel Menezes",
      "photoUrl": "https://lh3.googleusercontent.com/a-/AOh14GjYUuuH8zQ8RXHIMSnNeypaXPnqG95-o6VnOfVLGA=s64",
      "userId": "04710021433655722253"
     },
     "user_tz": 240
    },
    "id": "ry9LxM6esnDq"
   },
   "outputs": [],
   "source": [
    "#2-AgregarDadosPorCodeSample"
   ]
  },
  {
   "cell_type": "code",
   "execution_count": 5,
   "metadata": {
    "executionInfo": {
     "elapsed": 8,
     "status": "ok",
     "timestamp": 1624992255537,
     "user": {
      "displayName": "Gabriel Menezes",
      "photoUrl": "https://lh3.googleusercontent.com/a-/AOh14GjYUuuH8zQ8RXHIMSnNeypaXPnqG95-o6VnOfVLGA=s64",
      "userId": "04710021433655722253"
     },
     "user_tz": 240
    },
    "id": "B92xz9FZs7K5"
   },
   "outputs": [],
   "source": [
    "android = pd.read_csv(\"1-ExtrairDadosDePR/android.csv\")\n",
    "del android[\"Unnamed: 0\"]\n",
    "aws = pd.read_csv(\"1-ExtrairDadosDePR/aws.csv\")\n",
    "del aws[\"Unnamed: 0\"]\n",
    "azure = pd.read_csv(\"1-ExtrairDadosDePR/azure.csv\")\n",
    "del azure[\"Unnamed: 0\"]\n",
    "spring = pd.read_csv(\"1-ExtrairDadosDePR/spring.csv\")\n",
    "del spring[\"Unnamed: 0\"]"
   ]
  },
  {
   "cell_type": "code",
   "execution_count": 6,
   "metadata": {
    "executionInfo": {
     "elapsed": 538,
     "status": "ok",
     "timestamp": 1624992256068,
     "user": {
      "displayName": "Gabriel Menezes",
      "photoUrl": "https://lh3.googleusercontent.com/a-/AOh14GjYUuuH8zQ8RXHIMSnNeypaXPnqG95-o6VnOfVLGA=s64",
      "userId": "04710021433655722253"
     },
     "user_tz": 240
    },
    "id": "Ll78NqATzGqH"
   },
   "outputs": [],
   "source": [
    "all = pd.concat([android, aws, azure, spring], ignore_index=True)"
   ]
  },
  {
   "cell_type": "markdown",
   "metadata": {
    "id": "9Ur1d8GXZjQu"
   },
   "source": [
    "## Number of Code Samples"
   ]
  },
  {
   "cell_type": "code",
   "execution_count": 7,
   "metadata": {
    "colab": {
     "base_uri": "https://localhost:8080/"
    },
    "executionInfo": {
     "elapsed": 111,
     "status": "ok",
     "timestamp": 1624992256068,
     "user": {
      "displayName": "Gabriel Menezes",
      "photoUrl": "https://lh3.googleusercontent.com/a-/AOh14GjYUuuH8zQ8RXHIMSnNeypaXPnqG95-o6VnOfVLGA=s64",
      "userId": "04710021433655722253"
     },
     "user_tz": 240
    },
    "id": "G4LUCA3xZo9a",
    "outputId": "0273b217-f10a-4d5f-cb72-64c5afc7599b"
   },
   "outputs": [
    {
     "data": {
      "text/plain": [
       "googlearchive/chromedeveditor           1913\n",
       "googlearchive/ShadowDOM                  313\n",
       "googlearchive/nxt-standalone             240\n",
       "googlearchive/erlnmyr                    191\n",
       "googlearchive/experience-sampling        154\n",
       "                                        ... \n",
       "googlearchive/android-CardReader           1\n",
       "googlearchive/slideshow                    1\n",
       "googlearchive/core-action-icons            1\n",
       "googlearchive/android-JumpingJack          1\n",
       "googlesamples/functions-as-a-service       1\n",
       "Name: sample, Length: 698, dtype: int64"
      ]
     },
     "execution_count": 7,
     "metadata": {},
     "output_type": "execute_result"
    }
   ],
   "source": [
    "android[\"sample\"].value_counts()"
   ]
  },
  {
   "cell_type": "code",
   "execution_count": 8,
   "metadata": {
    "colab": {
     "base_uri": "https://localhost:8080/"
    },
    "executionInfo": {
     "elapsed": 94,
     "status": "ok",
     "timestamp": 1624992256069,
     "user": {
      "displayName": "Gabriel Menezes",
      "photoUrl": "https://lh3.googleusercontent.com/a-/AOh14GjYUuuH8zQ8RXHIMSnNeypaXPnqG95-o6VnOfVLGA=s64",
      "userId": "04710021433655722253"
     },
     "user_tz": 240
    },
    "id": "WgMxoqX5Zt4D",
    "outputId": "772db8ae-b46f-41d5-95f9-a80697242b36"
   },
   "outputs": [
    {
     "data": {
      "text/plain": [
       "aws-samples/aws-greengrass-lambda-functions                                  4310\n",
       "aws-samples/iot-reference-architectures                                      2489\n",
       "aws-samples/eks-workshop                                                      855\n",
       "aws-samples/aws-secure-environment-accelerator                                629\n",
       "aws-samples/aws-reinvent-2019-trivia-game                                     400\n",
       "                                                                             ... \n",
       "aws-samples/color-service-client-dotnet-core-sample                             1\n",
       "aws-samples/how-to-monitor-tgw-route-limits-using-serverless-architecture       1\n",
       "aws-samples/amazon-ipc-ai-saas                                                  1\n",
       "aws-samples/aws-transit-gateway-egress-vpc-pattern                              1\n",
       "aws-samples/amazon-ecs-firelens-under-the-hood                                  1\n",
       "Name: sample, Length: 1221, dtype: int64"
      ]
     },
     "execution_count": 8,
     "metadata": {},
     "output_type": "execute_result"
    }
   ],
   "source": [
    "aws[\"sample\"].value_counts()"
   ]
  },
  {
   "cell_type": "code",
   "execution_count": 9,
   "metadata": {
    "colab": {
     "base_uri": "https://localhost:8080/"
    },
    "executionInfo": {
     "elapsed": 91,
     "status": "ok",
     "timestamp": 1624992256071,
     "user": {
      "displayName": "Gabriel Menezes",
      "photoUrl": "https://lh3.googleusercontent.com/a-/AOh14GjYUuuH8zQ8RXHIMSnNeypaXPnqG95-o6VnOfVLGA=s64",
      "userId": "04710021433655722253"
     },
     "user_tz": 240
    },
    "id": "CByrwX29ZuTD",
    "outputId": "d8664ea7-d95a-4df9-f111-0a172a604b36"
   },
   "outputs": [
    {
     "data": {
      "text/plain": [
       "Azure-Samples/MyDriving                                                           413\n",
       "Azure-Samples/openhack-devops-proctor                                             320\n",
       "Azure-Samples/Cognitive-Services-Voice-Assistant                                  308\n",
       "Azure-Samples/azure-cli-samples                                                   294\n",
       "Azure-Samples/openhack-devops-team                                                269\n",
       "                                                                                 ... \n",
       "Azure-Samples/app-service-java-configure-deployment-sources-for-web-apps-async      1\n",
       "Azure-Samples/netappfiles-python-pool-change-sdk-sample                             1\n",
       "Azure-Samples/media-services-dotnet-dynamic-encryption-with-fairplay                1\n",
       "Azure-Samples/network-dotnet-use-network-watcher-to-check-connectivity              1\n",
       "Azure-Samples/ms-identity-python-webapi-azurefunctions                              1\n",
       "Name: sample, Length: 1386, dtype: int64"
      ]
     },
     "execution_count": 9,
     "metadata": {},
     "output_type": "execute_result"
    }
   ],
   "source": [
    "azure[\"sample\"].value_counts()"
   ]
  },
  {
   "cell_type": "code",
   "execution_count": 10,
   "metadata": {
    "colab": {
     "base_uri": "https://localhost:8080/"
    },
    "executionInfo": {
     "elapsed": 88,
     "status": "ok",
     "timestamp": 1624992256072,
     "user": {
      "displayName": "Gabriel Menezes",
      "photoUrl": "https://lh3.googleusercontent.com/a-/AOh14GjYUuuH8zQ8RXHIMSnNeypaXPnqG95-o6VnOfVLGA=s64",
      "userId": "04710021433655722253"
     },
     "user_tz": 240
    },
    "id": "gka-kJBTZukK",
    "outputId": "1c4a276e-1355-455a-afeb-96905d4a4ebc"
   },
   "outputs": [
    {
     "data": {
      "text/plain": [
       "spring-guides/tut-spring-security-and-angular-js    76\n",
       "spring-guides/gs-spring-boot                        76\n",
       "spring-guides/gs-crud-with-vaadin                   74\n",
       "spring-guides/gs-rest-service                       64\n",
       "spring-guides/tut-spring-boot-oauth2                48\n",
       "                                                    ..\n",
       "spring-guides/top-spring-on-kubernetes               1\n",
       "spring-guides/spring-guides-ci                       1\n",
       "spring-guides/gs-spring-cloud-dataflow               1\n",
       "spring-guides/gs-spring-boot-kubernetes              1\n",
       "spring-guides/gs-spring-cloud-task                   1\n",
       "Name: sample, Length: 83, dtype: int64"
      ]
     },
     "execution_count": 10,
     "metadata": {},
     "output_type": "execute_result"
    }
   ],
   "source": [
    "spring[\"sample\"].value_counts()"
   ]
  },
  {
   "cell_type": "code",
   "execution_count": 11,
   "metadata": {
    "colab": {
     "base_uri": "https://localhost:8080/"
    },
    "executionInfo": {
     "elapsed": 84,
     "status": "ok",
     "timestamp": 1624992256073,
     "user": {
      "displayName": "Gabriel Menezes",
      "photoUrl": "https://lh3.googleusercontent.com/a-/AOh14GjYUuuH8zQ8RXHIMSnNeypaXPnqG95-o6VnOfVLGA=s64",
      "userId": "04710021433655722253"
     },
     "user_tz": 240
    },
    "id": "9voReb3UZSmM",
    "outputId": "7fee8c29-570e-4246-b259-a8a88bffa15a"
   },
   "outputs": [
    {
     "data": {
      "text/plain": [
       "aws-samples/aws-greengrass-lambda-functions                          4310\n",
       "aws-samples/iot-reference-architectures                              2489\n",
       "googlearchive/chromedeveditor                                        1913\n",
       "aws-samples/eks-workshop                                              855\n",
       "aws-samples/aws-secure-environment-accelerator                        629\n",
       "                                                                     ... \n",
       "googlearchive/notary                                                    1\n",
       "Azure-Samples/data-catalog-dotnet-service-principal-get-started         1\n",
       "aws-samples/amazon-sagemaker-time-series-prediction-using-gluonts       1\n",
       "aws-samples/aws-building-data-lake-reinvent-session-stg206              1\n",
       "aws-samples/terraform-sample-workshop                                   1\n",
       "Name: sample, Length: 3388, dtype: int64"
      ]
     },
     "execution_count": 11,
     "metadata": {},
     "output_type": "execute_result"
    }
   ],
   "source": [
    "all[\"sample\"].value_counts()"
   ]
  },
  {
   "cell_type": "markdown",
   "metadata": {
    "id": "XsMFEJhru4KR"
   },
   "source": [
    "## Analysis at Pull Request level"
   ]
  },
  {
   "cell_type": "markdown",
   "metadata": {
    "id": "CEP1tLRjyUy-"
   },
   "source": [
    "### Pulls Open X Pulls Closed"
   ]
  },
  {
   "cell_type": "code",
   "execution_count": 12,
   "metadata": {
    "colab": {
     "base_uri": "https://localhost:8080/"
    },
    "executionInfo": {
     "elapsed": 79,
     "status": "ok",
     "timestamp": 1624992256073,
     "user": {
      "displayName": "Gabriel Menezes",
      "photoUrl": "https://lh3.googleusercontent.com/a-/AOh14GjYUuuH8zQ8RXHIMSnNeypaXPnqG95-o6VnOfVLGA=s64",
      "userId": "04710021433655722253"
     },
     "user_tz": 240
    },
    "id": "tKfGI2EgyY0_",
    "outputId": "c1db214e-9535-4565-892b-7966d37b5d76"
   },
   "outputs": [
    {
     "data": {
      "text/plain": [
       "closed    9196\n",
       "open       816\n",
       "Name: status, dtype: int64"
      ]
     },
     "execution_count": 12,
     "metadata": {},
     "output_type": "execute_result"
    }
   ],
   "source": [
    "android[\"status\"].value_counts()"
   ]
  },
  {
   "cell_type": "code",
   "execution_count": 13,
   "metadata": {
    "colab": {
     "base_uri": "https://localhost:8080/"
    },
    "executionInfo": {
     "elapsed": 74,
     "status": "ok",
     "timestamp": 1624992256075,
     "user": {
      "displayName": "Gabriel Menezes",
      "photoUrl": "https://lh3.googleusercontent.com/a-/AOh14GjYUuuH8zQ8RXHIMSnNeypaXPnqG95-o6VnOfVLGA=s64",
      "userId": "04710021433655722253"
     },
     "user_tz": 240
    },
    "id": "GgRTqHFvyf6O",
    "outputId": "a8d76f36-3bde-4d74-ad63-59674e015dbd"
   },
   "outputs": [
    {
     "data": {
      "text/plain": [
       "closed    22785\n",
       "open       1410\n",
       "Name: status, dtype: int64"
      ]
     },
     "execution_count": 13,
     "metadata": {},
     "output_type": "execute_result"
    }
   ],
   "source": [
    "aws[\"status\"].value_counts()"
   ]
  },
  {
   "cell_type": "code",
   "execution_count": 14,
   "metadata": {
    "colab": {
     "base_uri": "https://localhost:8080/"
    },
    "executionInfo": {
     "elapsed": 69,
     "status": "ok",
     "timestamp": 1624992256075,
     "user": {
      "displayName": "Gabriel Menezes",
      "photoUrl": "https://lh3.googleusercontent.com/a-/AOh14GjYUuuH8zQ8RXHIMSnNeypaXPnqG95-o6VnOfVLGA=s64",
      "userId": "04710021433655722253"
     },
     "user_tz": 240
    },
    "id": "8aK-rlFPyi5e",
    "outputId": "23d50b52-d365-4832-913a-5da2c8267a98"
   },
   "outputs": [
    {
     "data": {
      "text/plain": [
       "closed    13828\n",
       "open       1685\n",
       "Name: status, dtype: int64"
      ]
     },
     "execution_count": 14,
     "metadata": {},
     "output_type": "execute_result"
    }
   ],
   "source": [
    "azure[\"status\"].value_counts()"
   ]
  },
  {
   "cell_type": "code",
   "execution_count": 15,
   "metadata": {
    "colab": {
     "base_uri": "https://localhost:8080/"
    },
    "executionInfo": {
     "elapsed": 65,
     "status": "ok",
     "timestamp": 1624992256076,
     "user": {
      "displayName": "Gabriel Menezes",
      "photoUrl": "https://lh3.googleusercontent.com/a-/AOh14GjYUuuH8zQ8RXHIMSnNeypaXPnqG95-o6VnOfVLGA=s64",
      "userId": "04710021433655722253"
     },
     "user_tz": 240
    },
    "id": "bUaZN2LQymQX",
    "outputId": "280f3e28-0ed5-4283-9bd3-79f4b6b55fa7"
   },
   "outputs": [
    {
     "data": {
      "text/plain": [
       "closed    1427\n",
       "open       134\n",
       "Name: status, dtype: int64"
      ]
     },
     "execution_count": 15,
     "metadata": {},
     "output_type": "execute_result"
    }
   ],
   "source": [
    "spring[\"status\"].value_counts()"
   ]
  },
  {
   "cell_type": "code",
   "execution_count": 16,
   "metadata": {
    "colab": {
     "base_uri": "https://localhost:8080/"
    },
    "executionInfo": {
     "elapsed": 62,
     "status": "ok",
     "timestamp": 1624992256077,
     "user": {
      "displayName": "Gabriel Menezes",
      "photoUrl": "https://lh3.googleusercontent.com/a-/AOh14GjYUuuH8zQ8RXHIMSnNeypaXPnqG95-o6VnOfVLGA=s64",
      "userId": "04710021433655722253"
     },
     "user_tz": 240
    },
    "id": "Ls5lZvNUzkMe",
    "outputId": "3860915d-f4a4-4c94-9d5a-29d04f0a48e8"
   },
   "outputs": [
    {
     "data": {
      "text/plain": [
       "closed    47236\n",
       "open       4045\n",
       "Name: status, dtype: int64"
      ]
     },
     "execution_count": 16,
     "metadata": {},
     "output_type": "execute_result"
    }
   ],
   "source": [
    "all[\"status\"].value_counts()"
   ]
  },
  {
   "cell_type": "markdown",
   "metadata": {
    "id": "iFJia1ZVzyJ1"
   },
   "source": [
    "### Pulls Merged x Not Merged"
   ]
  },
  {
   "cell_type": "code",
   "execution_count": 17,
   "metadata": {
    "executionInfo": {
     "elapsed": 59,
     "status": "ok",
     "timestamp": 1624992256078,
     "user": {
      "displayName": "Gabriel Menezes",
      "photoUrl": "https://lh3.googleusercontent.com/a-/AOh14GjYUuuH8zQ8RXHIMSnNeypaXPnqG95-o6VnOfVLGA=s64",
      "userId": "04710021433655722253"
     },
     "user_tz": 240
    },
    "id": "OC5Z2HMYz5oW"
   },
   "outputs": [],
   "source": [
    "android_closed = android[android[\"status\"] == \"closed\"]\n",
    "aws_closed = aws[aws[\"status\"] == \"closed\"]\n",
    "azure_closed = azure[azure[\"status\"] == \"closed\"]\n",
    "spring_closed = spring[spring[\"status\"] == \"closed\"]\n",
    "all_closed = all[all[\"status\"] == \"closed\"]"
   ]
  },
  {
   "cell_type": "code",
   "execution_count": 18,
   "metadata": {
    "colab": {
     "base_uri": "https://localhost:8080/"
    },
    "executionInfo": {
     "elapsed": 56,
     "status": "ok",
     "timestamp": 1624992256078,
     "user": {
      "displayName": "Gabriel Menezes",
      "photoUrl": "https://lh3.googleusercontent.com/a-/AOh14GjYUuuH8zQ8RXHIMSnNeypaXPnqG95-o6VnOfVLGA=s64",
      "userId": "04710021433655722253"
     },
     "user_tz": 240
    },
    "id": "kmFhVNMMuFXK",
    "outputId": "a20ddc7b-672e-4bcf-859e-26b11bc9c52c"
   },
   "outputs": [
    {
     "data": {
      "text/plain": [
       "True     7416\n",
       "False    1780\n",
       "Name: merged, dtype: int64"
      ]
     },
     "execution_count": 18,
     "metadata": {},
     "output_type": "execute_result"
    }
   ],
   "source": [
    "android_closed[\"merged\"].value_counts()"
   ]
  },
  {
   "cell_type": "code",
   "execution_count": 19,
   "metadata": {
    "colab": {
     "base_uri": "https://localhost:8080/"
    },
    "executionInfo": {
     "elapsed": 52,
     "status": "ok",
     "timestamp": 1624992256079,
     "user": {
      "displayName": "Gabriel Menezes",
      "photoUrl": "https://lh3.googleusercontent.com/a-/AOh14GjYUuuH8zQ8RXHIMSnNeypaXPnqG95-o6VnOfVLGA=s64",
      "userId": "04710021433655722253"
     },
     "user_tz": 240
    },
    "id": "n86XYDFi02zF",
    "outputId": "59a58ce0-7e68-41cd-d350-67d7791e2935"
   },
   "outputs": [
    {
     "data": {
      "text/plain": [
       "True     15510\n",
       "False     7275\n",
       "Name: merged, dtype: int64"
      ]
     },
     "execution_count": 19,
     "metadata": {},
     "output_type": "execute_result"
    }
   ],
   "source": [
    "aws_closed[\"merged\"].value_counts()"
   ]
  },
  {
   "cell_type": "code",
   "execution_count": 20,
   "metadata": {
    "colab": {
     "base_uri": "https://localhost:8080/"
    },
    "executionInfo": {
     "elapsed": 46,
     "status": "ok",
     "timestamp": 1624992256079,
     "user": {
      "displayName": "Gabriel Menezes",
      "photoUrl": "https://lh3.googleusercontent.com/a-/AOh14GjYUuuH8zQ8RXHIMSnNeypaXPnqG95-o6VnOfVLGA=s64",
      "userId": "04710021433655722253"
     },
     "user_tz": 240
    },
    "id": "nvvlxfyb073d",
    "outputId": "b5bc48d4-fbc8-4aa1-8310-fec669ba5fcd"
   },
   "outputs": [
    {
     "data": {
      "text/plain": [
       "True     11855\n",
       "False     1973\n",
       "Name: merged, dtype: int64"
      ]
     },
     "execution_count": 20,
     "metadata": {},
     "output_type": "execute_result"
    }
   ],
   "source": [
    "azure_closed[\"merged\"].value_counts()"
   ]
  },
  {
   "cell_type": "code",
   "execution_count": 21,
   "metadata": {
    "colab": {
     "base_uri": "https://localhost:8080/"
    },
    "executionInfo": {
     "elapsed": 42,
     "status": "ok",
     "timestamp": 1624992256080,
     "user": {
      "displayName": "Gabriel Menezes",
      "photoUrl": "https://lh3.googleusercontent.com/a-/AOh14GjYUuuH8zQ8RXHIMSnNeypaXPnqG95-o6VnOfVLGA=s64",
      "userId": "04710021433655722253"
     },
     "user_tz": 240
    },
    "id": "VpMnpyiE0-x1",
    "outputId": "344a5bd9-a90b-471c-9fad-08402f3142da"
   },
   "outputs": [
    {
     "data": {
      "text/plain": [
       "True     952\n",
       "False    475\n",
       "Name: merged, dtype: int64"
      ]
     },
     "execution_count": 21,
     "metadata": {},
     "output_type": "execute_result"
    }
   ],
   "source": [
    "spring_closed[\"merged\"].value_counts()"
   ]
  },
  {
   "cell_type": "code",
   "execution_count": 22,
   "metadata": {
    "colab": {
     "base_uri": "https://localhost:8080/"
    },
    "executionInfo": {
     "elapsed": 38,
     "status": "ok",
     "timestamp": 1624992256080,
     "user": {
      "displayName": "Gabriel Menezes",
      "photoUrl": "https://lh3.googleusercontent.com/a-/AOh14GjYUuuH8zQ8RXHIMSnNeypaXPnqG95-o6VnOfVLGA=s64",
      "userId": "04710021433655722253"
     },
     "user_tz": 240
    },
    "id": "oV14casu1DDs",
    "outputId": "ad0b9b3b-b282-4094-af2f-bc9bd28e8f8e"
   },
   "outputs": [
    {
     "data": {
      "text/plain": [
       "True     35733\n",
       "False    11503\n",
       "Name: merged, dtype: int64"
      ]
     },
     "execution_count": 22,
     "metadata": {},
     "output_type": "execute_result"
    }
   ],
   "source": [
    "all_closed[\"merged\"].value_counts()"
   ]
  },
  {
   "cell_type": "markdown",
   "metadata": {
    "id": "IuY2xdaC3aRU"
   },
   "source": [
    "## Analysis at code sample level"
   ]
  },
  {
   "cell_type": "code",
   "execution_count": 23,
   "metadata": {
    "executionInfo": {
     "elapsed": 35,
     "status": "ok",
     "timestamp": 1624992256081,
     "user": {
      "displayName": "Gabriel Menezes",
      "photoUrl": "https://lh3.googleusercontent.com/a-/AOh14GjYUuuH8zQ8RXHIMSnNeypaXPnqG95-o6VnOfVLGA=s64",
      "userId": "04710021433655722253"
     },
     "user_tz": 240
    },
    "id": "aVxRUNEX3efd"
   },
   "outputs": [],
   "source": [
    "def set_index(dataframe):\n",
    "  dataframe.set_index(dataframe[\"sample\"], inplace=True)\n",
    "  del dataframe[\"sample\"]"
   ]
  },
  {
   "cell_type": "code",
   "execution_count": 24,
   "metadata": {
    "executionInfo": {
     "elapsed": 34,
     "status": "ok",
     "timestamp": 1624992256082,
     "user": {
      "displayName": "Gabriel Menezes",
      "photoUrl": "https://lh3.googleusercontent.com/a-/AOh14GjYUuuH8zQ8RXHIMSnNeypaXPnqG95-o6VnOfVLGA=s64",
      "userId": "04710021433655722253"
     },
     "user_tz": 240
    },
    "id": "BWVN7zLd1qwA"
   },
   "outputs": [],
   "source": [
    "set_index(android)\n",
    "set_index(aws)\n",
    "set_index(azure)\n",
    "set_index(spring)"
   ]
  },
  {
   "cell_type": "code",
   "execution_count": 25,
   "metadata": {
    "executionInfo": {
     "elapsed": 33,
     "status": "ok",
     "timestamp": 1624992256083,
     "user": {
      "displayName": "Gabriel Menezes",
      "photoUrl": "https://lh3.googleusercontent.com/a-/AOh14GjYUuuH8zQ8RXHIMSnNeypaXPnqG95-o6VnOfVLGA=s64",
      "userId": "04710021433655722253"
     },
     "user_tz": 240
    },
    "id": "B7djS8e2eLsy"
   },
   "outputs": [],
   "source": [
    "def calculate_stats(dataframe):\n",
    "  for sample in dataframe.index.unique():\n",
    "    aux = dataframe.loc[[sample]]\n",
    "    dataframe.loc[sample, \"closed_count\"] = aux[aux[\"status\"] == \"closed\"][\"framework\"].count()\n",
    "    dataframe.loc[sample, \"open_count\"] = aux[aux[\"status\"] == \"open\"][\"framework\"].count()\n",
    "    dataframe.loc[sample, \"merged_count\"] = aux[aux[\"merged\"] == True][\"framework\"].count()\n",
    "    aux2 = aux[aux[\"status\"] == \"closed\"]\n",
    "    dataframe.loc[sample, \"not_merged_count\"] = aux2[aux2[\"merged\"] == False][\"framework\"].count()"
   ]
  },
  {
   "cell_type": "code",
   "execution_count": 26,
   "metadata": {
    "executionInfo": {
     "elapsed": 24503,
     "status": "ok",
     "timestamp": 1624992280554,
     "user": {
      "displayName": "Gabriel Menezes",
      "photoUrl": "https://lh3.googleusercontent.com/a-/AOh14GjYUuuH8zQ8RXHIMSnNeypaXPnqG95-o6VnOfVLGA=s64",
      "userId": "04710021433655722253"
     },
     "user_tz": 240
    },
    "id": "evlae8PgTUwu"
   },
   "outputs": [],
   "source": [
    "calculate_stats(android)\n",
    "calculate_stats(aws)\n",
    "calculate_stats(azure)\n",
    "calculate_stats(spring)"
   ]
  },
  {
   "cell_type": "code",
   "execution_count": 27,
   "metadata": {
    "executionInfo": {
     "elapsed": 33,
     "status": "ok",
     "timestamp": 1624992280558,
     "user": {
      "displayName": "Gabriel Menezes",
      "photoUrl": "https://lh3.googleusercontent.com/a-/AOh14GjYUuuH8zQ8RXHIMSnNeypaXPnqG95-o6VnOfVLGA=s64",
      "userId": "04710021433655722253"
     },
     "user_tz": 240
    },
    "id": "8lBC1vRM-c5a"
   },
   "outputs": [],
   "source": [
    "def aggregate(dataframe, framework):\n",
    "    dataframe[\"framework\"] = framework\n",
    "    dataframe = dataframe.groupby(by=\"sample\").mean()\n",
    "    del dataframe[\"merge user cargo\"]\n",
    "    del dataframe[\"merged\"]\n",
    "    return dataframe"
   ]
  },
  {
   "cell_type": "code",
   "execution_count": 28,
   "metadata": {
    "executionInfo": {
     "elapsed": 25,
     "status": "ok",
     "timestamp": 1624992280559,
     "user": {
      "displayName": "Gabriel Menezes",
      "photoUrl": "https://lh3.googleusercontent.com/a-/AOh14GjYUuuH8zQ8RXHIMSnNeypaXPnqG95-o6VnOfVLGA=s64",
      "userId": "04710021433655722253"
     },
     "user_tz": 240
    },
    "id": "nkEmrMnC63iD"
   },
   "outputs": [],
   "source": [
    "android = aggregate(android, \"Android\")"
   ]
  },
  {
   "cell_type": "code",
   "execution_count": 29,
   "metadata": {
    "executionInfo": {
     "elapsed": 24,
     "status": "ok",
     "timestamp": 1624992280560,
     "user": {
      "displayName": "Gabriel Menezes",
      "photoUrl": "https://lh3.googleusercontent.com/a-/AOh14GjYUuuH8zQ8RXHIMSnNeypaXPnqG95-o6VnOfVLGA=s64",
      "userId": "04710021433655722253"
     },
     "user_tz": 240
    },
    "id": "o9UMyJsH63Sv"
   },
   "outputs": [],
   "source": [
    "aws = aggregate(aws, \"AWS\")"
   ]
  },
  {
   "cell_type": "code",
   "execution_count": 30,
   "metadata": {
    "executionInfo": {
     "elapsed": 24,
     "status": "ok",
     "timestamp": 1624992280560,
     "user": {
      "displayName": "Gabriel Menezes",
      "photoUrl": "https://lh3.googleusercontent.com/a-/AOh14GjYUuuH8zQ8RXHIMSnNeypaXPnqG95-o6VnOfVLGA=s64",
      "userId": "04710021433655722253"
     },
     "user_tz": 240
    },
    "id": "KiOsKBFSzRro"
   },
   "outputs": [],
   "source": [
    "azure = aggregate(azure, \"Azure\")"
   ]
  },
  {
   "cell_type": "code",
   "execution_count": 31,
   "metadata": {
    "executionInfo": {
     "elapsed": 24,
     "status": "ok",
     "timestamp": 1624992280561,
     "user": {
      "displayName": "Gabriel Menezes",
      "photoUrl": "https://lh3.googleusercontent.com/a-/AOh14GjYUuuH8zQ8RXHIMSnNeypaXPnqG95-o6VnOfVLGA=s64",
      "userId": "04710021433655722253"
     },
     "user_tz": 240
    },
    "id": "j4GnPRrw9Bmx"
   },
   "outputs": [],
   "source": [
    "spring = aggregate(spring, \"Spring\")"
   ]
  },
  {
   "cell_type": "code",
   "execution_count": 32,
   "metadata": {},
   "outputs": [],
   "source": [
    "android[\"framework\"] = \"Android\"\n",
    "aws[\"framework\"] = \"AWS\"\n",
    "azure[\"framework\"] = \"Azure\"\n",
    "spring[\"framework\"] = \"Spring\""
   ]
  },
  {
   "cell_type": "code",
   "execution_count": 33,
   "metadata": {},
   "outputs": [],
   "source": [
    "def relative_metrics(dataframe):\n",
    "    dataframe[\"relative_open_count\"] = (dataframe[\"open_count\"] / (dataframe[\"open_count\"] + dataframe[\"closed_count\"])) * 100\n",
    "    dataframe[\"relative_closed_count\"] = (dataframe[\"closed_count\"] / (dataframe[\"open_count\"] + dataframe[\"closed_count\"])) * 100\n",
    "    dataframe[\"relative_merged\"] = (dataframe[\"merged_count\"] / dataframe[\"closed_count\"]) * 100\n",
    "    dataframe[\"relative_not_merged\"] = (dataframe[\"not_merged_count\"] / dataframe[\"closed_count\"]) * 100\n",
    "    return dataframe"
   ]
  },
  {
   "cell_type": "code",
   "execution_count": 34,
   "metadata": {},
   "outputs": [],
   "source": [
    "android = relative_metrics(android)\n",
    "aws = relative_metrics(aws)\n",
    "azure = relative_metrics(azure)\n",
    "spring = relative_metrics(spring)"
   ]
  },
  {
   "cell_type": "code",
   "execution_count": 35,
   "metadata": {
    "executionInfo": {
     "elapsed": 24,
     "status": "ok",
     "timestamp": 1624992280562,
     "user": {
      "displayName": "Gabriel Menezes",
      "photoUrl": "https://lh3.googleusercontent.com/a-/AOh14GjYUuuH8zQ8RXHIMSnNeypaXPnqG95-o6VnOfVLGA=s64",
      "userId": "04710021433655722253"
     },
     "user_tz": 240
    },
    "id": "tsuyWsYc9O8O"
   },
   "outputs": [],
   "source": [
    "android.to_csv(\"2-AgregarDadosPorCodeSample/android.csv\")"
   ]
  },
  {
   "cell_type": "code",
   "execution_count": 36,
   "metadata": {
    "executionInfo": {
     "elapsed": 23,
     "status": "ok",
     "timestamp": 1624992280562,
     "user": {
      "displayName": "Gabriel Menezes",
      "photoUrl": "https://lh3.googleusercontent.com/a-/AOh14GjYUuuH8zQ8RXHIMSnNeypaXPnqG95-o6VnOfVLGA=s64",
      "userId": "04710021433655722253"
     },
     "user_tz": 240
    },
    "id": "rqlGpvoRDxmz"
   },
   "outputs": [],
   "source": [
    "aws.to_csv(\"2-AgregarDadosPorCodeSample/aws.csv\")"
   ]
  },
  {
   "cell_type": "code",
   "execution_count": 37,
   "metadata": {
    "executionInfo": {
     "elapsed": 23,
     "status": "ok",
     "timestamp": 1624992280563,
     "user": {
      "displayName": "Gabriel Menezes",
      "photoUrl": "https://lh3.googleusercontent.com/a-/AOh14GjYUuuH8zQ8RXHIMSnNeypaXPnqG95-o6VnOfVLGA=s64",
      "userId": "04710021433655722253"
     },
     "user_tz": 240
    },
    "id": "bghCAqTdDxaW"
   },
   "outputs": [],
   "source": [
    "azure.to_csv(\"2-AgregarDadosPorCodeSample/azure.csv\")"
   ]
  },
  {
   "cell_type": "code",
   "execution_count": 38,
   "metadata": {
    "executionInfo": {
     "elapsed": 22,
     "status": "ok",
     "timestamp": 1624992280563,
     "user": {
      "displayName": "Gabriel Menezes",
      "photoUrl": "https://lh3.googleusercontent.com/a-/AOh14GjYUuuH8zQ8RXHIMSnNeypaXPnqG95-o6VnOfVLGA=s64",
      "userId": "04710021433655722253"
     },
     "user_tz": 240
    },
    "id": "dzK-YctYDxGq"
   },
   "outputs": [],
   "source": [
    "spring.to_csv(\"2-AgregarDadosPorCodeSample/spring.csv\")"
   ]
  },
  {
   "cell_type": "code",
   "execution_count": 41,
   "metadata": {},
   "outputs": [
    {
     "data": {
      "text/plain": [
       "tempo para fechamento          102.502922\n",
       "tempo merge                     13.298338\n",
       "merge user seguidores         4007.219416\n",
       "merge user tempo no GitHub    1621.660428\n",
       "closed_count                    13.174785\n",
       "open_count                       1.169054\n",
       "merged_count                    10.624642\n",
       "not_merged_count                 2.550143\n",
       "relative_open_count             14.161977\n",
       "relative_closed_count           85.838023\n",
       "relative_merged                 69.393105\n",
       "relative_not_merged             30.606895\n",
       "dtype: float64"
      ]
     },
     "execution_count": 41,
     "metadata": {},
     "output_type": "execute_result"
    }
   ],
   "source": [
    "android.mean()"
   ]
  }
 ],
 "metadata": {
  "colab": {
   "authorship_tag": "ABX9TyMgD5vNjLYHbOJMi9ZVOpnE",
   "collapsed_sections": [
    "9Ur1d8GXZjQu",
    "XsMFEJhru4KR"
   ],
   "name": "AgregarDados.ipynb",
   "provenance": []
  },
  "kernelspec": {
   "display_name": "Python 3",
   "language": "python",
   "name": "python3"
  },
  "language_info": {
   "codemirror_mode": {
    "name": "ipython",
    "version": 3
   },
   "file_extension": ".py",
   "mimetype": "text/x-python",
   "name": "python",
   "nbconvert_exporter": "python",
   "pygments_lexer": "ipython3",
   "version": "3.8.6"
  }
 },
 "nbformat": 4,
 "nbformat_minor": 1
}
