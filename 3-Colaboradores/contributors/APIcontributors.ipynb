{
  "nbformat": 4,
  "nbformat_minor": 0,
  "metadata": {
    "colab": {
      "name": "APIcontributors.ipynb",
      "provenance": []
    },
    "kernelspec": {
      "name": "python3",
      "display_name": "Python 3"
    },
    "language_info": {
      "name": "python"
    }
  },
  "cells": [
    {
      "cell_type": "code",
      "metadata": {
        "id": "1e-opgXBi5Lf"
      },
      "source": [
        "from github import Github\n",
        "from datetime import datetime\n",
        "import pandas as pd\n",
        "g = Github(\"insirasuachave\")"
      ],
      "execution_count": null,
      "outputs": []
    },
    {
      "cell_type": "code",
      "metadata": {
        "id": "EHDCJGFwjGbV"
      },
      "source": [
        "def getContributors(sample):\n",
        "  repo = g.get_repo(sample)\n",
        "  print(sample)\n",
        "  contributors = []\n",
        "  for contributor in repo.get_contributors(anon=0):\n",
        "    contributors.append(contributor)\n",
        "\n",
        "  return contributors"
      ],
      "execution_count": null,
      "outputs": []
    },
    {
      "cell_type": "code",
      "metadata": {
        "id": "2I9pP0GvjLIj"
      },
      "source": [
        "def getDataframe(dataframe, framework, sample, contributors):\n",
        "  return dataframe.append(other=[\n",
        "                              {\n",
        "                                \"framework\" : framework,\n",
        "                                \"sample\": sample,\n",
        "                                \"company\": contributor.company,\n",
        "                                \"data de criação da conta\": contributor.created_at,\n",
        "                                \"e-mail\": contributor.email,\n",
        "                                \"seguidores\": contributor.followers,\n",
        "                                \"seguindo\": contributor.following,\n",
        "                                \"localização\": contributor.location,\n",
        "                                \"nome\": contributor.name,\n",
        "                                \"login\": contributor.login,\n",
        "                                \"permissoes\": contributor.permissions,\n",
        "                                \"cargo\": contributor.role,  \n",
        "                                \n",
        "                                } for contributor in contributors])"
      ],
      "execution_count": null,
      "outputs": []
    },
    {
      "cell_type": "code",
      "metadata": {
        "id": "1mq50aL-jtUj"
      },
      "source": [
        ""
      ],
      "execution_count": null,
      "outputs": []
    },
    {
      "cell_type": "code",
      "metadata": {
        "id": "JiQseV2ajR9x"
      },
      "source": [
        "def export(dataframe):\n",
        "  dataframe.to_csv(\"aws_col6.csv\")\n"
      ],
      "execution_count": null,
      "outputs": []
    },
    {
      "cell_type": "code",
      "metadata": {
        "id": "LVjv_T_IjOlR"
      },
      "source": [
        "def main():\n",
        "  samples = pd.read_csv(\"rep.txt\", names=[\"sample\"])\n",
        "  dataframe = pd.DataFrame(columns=[\"framework\",\"sample\",\"company\",\"data de criação da conta\",\"e-mail\"\n",
        "                                  ,\"seguidores\",\"seguindo\",\"localização\",\"nome\",\n",
        "                                  \"login\",\"permissoes\", \"cargo\"])\n",
        "  for sample in samples[\"sample\"]:\n",
        "    framework = sample.split(\"/\")\n",
        "    framework = framework[0]\n",
        "    contributors = getContributors(sample)\n",
        "    dataframe = getDataframe(dataframe, framework, sample, contributors)\n",
        "\n",
        "  export(dataframe) "
      ],
      "execution_count": null,
      "outputs": []
    },
    {
      "cell_type": "code",
      "metadata": {
        "id": "s8ssJsIUja8I"
      },
      "source": [
        "if __name__ == \"__main__\":\n",
        "    main()"
      ],
      "execution_count": null,
      "outputs": []
    }
  ]
}