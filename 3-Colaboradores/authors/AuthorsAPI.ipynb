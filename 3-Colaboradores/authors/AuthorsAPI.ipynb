{
  "nbformat": 4,
  "nbformat_minor": 0,
  "metadata": {
    "colab": {
      "name": "AuthorsAPI.ipynb",
      "provenance": []
    },
    "kernelspec": {
      "name": "python3",
      "display_name": "Python 3"
    },
    "language_info": {
      "name": "python"
    }
  },
  "cells": [
    {
      "cell_type": "code",
      "metadata": {
        "id": "MmoADQbUkgUW"
      },
      "source": [
        "from github import Github\n",
        "import colorama\n",
        "from colorama import Fore\n",
        "from colorama import Style\n",
        "colorama.init()\n",
        "#g = Github(\"insirasuachave\")\n",
        "lista = []\n",
        "listBot = []\n",
        "requisicoes = 1\n",
        "import pandas as pd\n",
        "from urllib.request import urlopen\n",
        "from urllib.error import HTTPError\n",
        "from urllib.error import URLError\n",
        "from bs4 import BeautifulSoup"
      ],
      "execution_count": null,
      "outputs": []
    },
    {
      "cell_type": "code",
      "metadata": {
        "id": "c0TGOU6Mkumv"
      },
      "source": [
        "def getUsers(sample):\n",
        "    global requisicoes\n",
        "    print(sample)\n",
        "    users = []\n",
        "    try:\n",
        "        html = urlopen(\"https://github.com/\"+sample+\"/issues/show_menu_content?partial=issues/filters/authors_content\")\n",
        "    except HTTPError as e:\n",
        "        print(e)\n",
        "    except URLError:\n",
        "        print(\"Server down or incorrect domain\")\n",
        "    else:\n",
        "        res = BeautifulSoup(html.read(),\"html5lib\")\n",
        "        tags = res.findAll(\"strong\", {\"class\":\"mr-2\"})\n",
        "        #print(requisicoes)\n",
        "        #print(tags[0])\n",
        "        for tag in tags:\n",
        "            \n",
        "            try:\n",
        "                #print(lista)\n",
        "                if lista == []:\n",
        "                    #print(\"primeirouser\")\n",
        "                    print(tag.getText())  \n",
        "                    user = g.get_user(tag.getText())\n",
        "                    lista.append(user)\n",
        "                    users.append(user)\n",
        "                    \n",
        "                else:\n",
        "                    encontrado = False\n",
        "                    for u in lista:\n",
        "                        if(u.login == tag.getText()):\n",
        "                            \n",
        "                            print(Fore.BLUE + Style.BRIGHT + tag.getText() + Style.RESET_ALL) \n",
        "                            #print(\"user dentro da lista de users local\")\n",
        "                            users.append(u)\n",
        "                            encontrado = True\n",
        "                            break\n",
        "                    for bot in listBot:\n",
        "                        if(bot == tag.getText()):\n",
        "                            print(Fore.GREEN + Style.BRIGHT + tag.getText() + Style.RESET_ALL) \n",
        "                            #print(\"user dentro da lista de users bot local\")\n",
        "                            #users.append(u)\n",
        "                            encontrado = True\n",
        "                            break\n",
        "                    if encontrado == False:\n",
        "                        #print(\"user fora da lista local, será feito requisições on-line\")\n",
        "                        print(Fore.RED + tag.getText() + Style.RESET_ALL)\n",
        "                        requisicoes = requisicoes + 1\n",
        "                        user = g.get_user(tag.getText())\n",
        "                        lista.append(user)\n",
        "                        users.append(user)\n",
        "                \n",
        "                #print(tag.getText()) \n",
        "                #print(user)\n",
        "                #users.append(user)\n",
        "            except:\n",
        "                listBot.append(tag.getText())\n",
        "                print()\n",
        "    return users            "
      ],
      "execution_count": null,
      "outputs": []
    },
    {
      "cell_type": "code",
      "metadata": {
        "id": "qSADl9ICkxE0"
      },
      "source": [
        "def getDataframe(dataframe, framework, sample, contributors):\n",
        "  return dataframe.append(other=[\n",
        "                              {\n",
        "                                \"framework\" : framework,\n",
        "                                \"sample\": sample,\n",
        "                                \"company\": contributor.company,\n",
        "                                \"data de criação da conta\": contributor.created_at,\n",
        "                                \"e-mail\": contributor.email,\n",
        "                                \"seguidores\": contributor.followers,\n",
        "                                \"seguindo\": contributor.following,\n",
        "                                \"localização\": contributor.location,\n",
        "                                \"nome\": contributor.name,\n",
        "                                \"login\": contributor.login,\n",
        "                                \"permissoes\": contributor.permissions,\n",
        "                                \"cargo\": contributor.role,  \n",
        "                                \n",
        "                                } for contributor in contributors])\n",
        "\n"
      ],
      "execution_count": null,
      "outputs": []
    },
    {
      "cell_type": "code",
      "metadata": {
        "id": "F7NLQHERkyx7"
      },
      "source": [
        "def export(dataframe):\n",
        "  dataframe.to_csv(\"users-AZUREpart5.csv\")"
      ],
      "execution_count": null,
      "outputs": []
    },
    {
      "cell_type": "code",
      "metadata": {
        "id": "IxtJh0FRk1Au"
      },
      "source": [
        "def main():\n",
        "  samples = pd.read_csv(\"rep.txt\", names=[\"sample\"])\n",
        "  dataframe = pd.DataFrame(columns=[\"framework\",\"sample\",\"company\",\"data de criação da conta\",\"e-mail\"\n",
        "                                  ,\"seguidores\",\"seguindo\",\"localização\",\"nome\",\n",
        "                                  \"login\",\"permissoes\", \"cargo\"])\n",
        "  for sample in samples[\"sample\"]:\n",
        "    framework = sample.split(\"/\")\n",
        "    framework = framework[0]\n",
        "    users = getUsers(sample)\n",
        "    dataframe = getDataframe(dataframe, framework, sample, users)\n",
        "\n",
        "  print(requisicoes)\n",
        "  export(dataframe) "
      ],
      "execution_count": null,
      "outputs": []
    },
    {
      "cell_type": "code",
      "metadata": {
        "id": "T2d9WeWck3wa"
      },
      "source": [
        "if __name__ == \"__main__\":\n",
        "    main()  "
      ],
      "execution_count": null,
      "outputs": []
    }
  ]
}